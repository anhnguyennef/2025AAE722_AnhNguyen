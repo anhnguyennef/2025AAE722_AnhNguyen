{
 "cells": [
  {
   "cell_type": "markdown",
   "metadata": {},
   "source": [
    "# 1. Validation Set Approach"
   ]
  },
  {
   "cell_type": "code",
   "execution_count": 14,
   "metadata": {},
   "outputs": [
    {
     "name": "stdout",
     "output_type": "stream",
     "text": [
      "Columns in the Boston dataset:\n",
      "['crim', 'zn', 'indus', 'chas', 'nox', 'rm', 'age', 'dis', 'rad', 'tax', 'ptratio', 'b', 'lstat', 'medv']\n",
      "Validation MSEs for polynomial degrees 1 to 4:\n",
      "[38.51 30.84 29.22 27.75]\n"
     ]
    }
   ],
   "source": [
    "from sklearn.datasets import fetch_openml\n",
    "import numpy as np\n",
    "from sklearn.model_selection import train_test_split\n",
    "from sklearn.preprocessing import PolynomialFeatures\n",
    "from sklearn.linear_model import LinearRegression\n",
    "from sklearn.metrics import mean_squared_error\n",
    "\n",
    "# load Boston dataset\n",
    "boston = fetch_openml(name=\"Boston\", version=1, as_frame=True)\n",
    "df = boston.frame\n",
    "df.columns = [c.lower() for c in df.columns]  # normalize column names to lowercase\n",
    "\n",
    "# list of columns in the dataset\n",
    "print(\"Columns in the Boston dataset:\")\n",
    "print(df.columns.tolist())\n",
    "\n",
    "# predictors and response\n",
    "X = df[['lstat']].values\n",
    "y = df['medv'].values\n",
    "\n",
    "# split into training and validation sets with exactly 253 observations each\n",
    "X_train, X_val, y_train, y_val = train_test_split(\n",
    "    X, y, train_size=253, test_size=253, random_state=42)\n",
    "\n",
    "# fit polynomial models of degree 1-4 and compute validation MSEs\n",
    "mses = []\n",
    "for deg in range(1, 5):\n",
    "    poly = PolynomialFeatures(degree=deg, include_bias=False)\n",
    "    X_train_p = poly.fit_transform(X_train)\n",
    "    X_val_p = poly.transform(X_val)\n",
    "\n",
    "    model = LinearRegression()\n",
    "    model.fit(X_train_p, y_train)\n",
    "    y_pred = model.predict(X_val_p)\n",
    "\n",
    "    mses.append(mean_squared_error(y_val, y_pred))\n",
    "\n",
    "# report results as a numpy array with 4 elements rounded to 2 decimals\n",
    "print(\"Validation MSEs for polynomial degrees 1 to 4:\")\n",
    "mses = np.round(np.array(mses), 2)\n",
    "print(mses)"
   ]
  },
  {
   "cell_type": "markdown",
   "metadata": {},
   "source": [
    "# 2. Leave-One-Out\n",
    "\n",
    "\n",
    "\n"
   ]
  },
  {
   "cell_type": "code",
   "execution_count": 15,
   "metadata": {},
   "outputs": [
    {
     "name": "stdout",
     "output_type": "stream",
     "text": [
      "LOOCV MSEs for polynomial degrees 1 to 5:\n",
      "[9291471.1  9255509.68 9263314.52 9268010.36 9284911.37]\n"
     ]
    }
   ],
   "source": [
    "import numpy as np\n",
    "import pandas as pd\n",
    "from sklearn.preprocessing import PolynomialFeatures\n",
    "from sklearn.linear_model import LinearRegression\n",
    "from sklearn.pipeline import make_pipeline\n",
    "from sklearn.model_selection import cross_validate\n",
    "\n",
    "# load dataset\n",
    "local_path = '/Users/anhnguyen/Documents/GitHub/2025AAE722_AnhNguyen/2025 AAE722 Anh Nguyen Submission/College.csv'\n",
    "college = pd.read_csv(local_path)\n",
    "\n",
    "# extract variables\n",
    "X = college[['Room.Board']]\n",
    "y = college['Outstate']\n",
    "\n",
    "# set up LOOCV\n",
    "n = len(college)  # number of observations\n",
    "cv = n            # LOOCV: each observation is its own fold\n",
    "cv_errors = []\n",
    "\n",
    "for degree in range(1, 6):\n",
    "    # create polynomial model pipeline\n",
    "    model = make_pipeline(PolynomialFeatures(degree=degree, include_bias=False),\n",
    "                          LinearRegression())\n",
    "    \n",
    "    # perform LOOCV using cross_validate\n",
    "    results = cross_validate(model, X, y,\n",
    "                             cv=cv,\n",
    "                             scoring='neg_mean_squared_error',\n",
    "                             n_jobs=-1)\n",
    "    \n",
    "    # compute mean cross-validation error (MSE)\n",
    "    mean_mse = -np.mean(results['test_score'])\n",
    "    cv_errors.append(mean_mse)\n",
    "\n",
    "# report results as a numpy array with 5 elements rounded to 2 decimals\n",
    "print(\"LOOCV MSEs for polynomial degrees 1 to 5:\")\n",
    "cv_errors = np.round(np.array(cv_errors), 2)\n",
    "print(cv_errors)"
   ]
  },
  {
   "cell_type": "markdown",
   "metadata": {},
   "source": [
    "# 3. K-Fold\n"
   ]
  },
  {
   "cell_type": "code",
   "execution_count": 16,
   "metadata": {},
   "outputs": [
    {
     "name": "stdout",
     "output_type": "stream",
     "text": [
      "Loaded College.csv: (777, 18)\n",
      "Columns: ['Private', 'Apps', 'Accept', 'Enroll', 'Top10perc', 'Top25perc', 'F.Undergrad', 'P.Undergrad', 'Outstate', 'Room.Board', 'Books', 'Personal', 'PhD', 'Terminal', 'S.F.Ratio', 'perc.alumni', 'Expend', 'Grad.Rate']\n",
      "Degree 1: 5-fold MSE = 9377937.163, 10-fold MSE = 9315542.590, Difference (5-fold - 10-fold) = 62394.573\n",
      "Degree 2: 5-fold MSE = 9345970.983, 10-fold MSE = 9281464.281, Difference (5-fold - 10-fold) = 64506.702\n",
      "Degree 3: 5-fold MSE = 9385687.233, 10-fold MSE = 9293767.859, Difference (5-fold - 10-fold) = 91919.374\n"
     ]
    }
   ],
   "source": [
    "# import dataset\n",
    "import os\n",
    "local_path = '/Users/anhnguyen/Documents/GitHub/2025AAE722_AnhNguyen/2025 AAE722 Anh Nguyen Submission/College.csv'\n",
    "\n",
    "if not os.path.exists(local_path):\n",
    "    raise FileNotFoundError(f\"File not found: {local_path}\")\n",
    "\n",
    "# read CSV (use index_col=0 as in the notebook)\n",
    "college = pd.read_csv(local_path, index_col=0)\n",
    "\n",
    "# quick checks\n",
    "print(\"Loaded College.csv:\", college.shape)\n",
    "print(\"Columns:\", college.columns.tolist())\n",
    "\n",
    "from sklearn.model_selection import KFold\n",
    "\n",
    "# set up KFold configurations\n",
    "kf5 = KFold(n_splits=5, shuffle=True, random_state=123)\n",
    "kf10 = KFold(n_splits=10, shuffle=True, random_state=123)\n",
    "\n",
    "degrees = [1, 2, 3]\n",
    "results = {}\n",
    "\n",
    "for deg in degrees:\n",
    "    pipe = make_pipeline(PolynomialFeatures(degree=deg, include_bias=False),\n",
    "                         SMWrapper())\n",
    "    # 5-fold CV\n",
    "    scores5 = cross_validate(pipe, X, y, cv=kf5, scoring='neg_mean_squared_error',\n",
    "                             return_train_score=False)\n",
    "    mse5 = -np.mean(scores5['test_score'])\n",
    "   \n",
    "    # 10-fold CV\n",
    "    pipe = make_pipeline(PolynomialFeatures(degree=deg, include_bias=False),\n",
    "                         SMWrapper())\n",
    "    scores10 = cross_validate(pipe, X, y, cv=kf10, scoring='neg_mean_squared_error',\n",
    "                              return_train_score=False)\n",
    "    mse10 = -np.mean(scores10['test_score'])\n",
    "   \n",
    "    # store rounded results\n",
    "    results[deg] = {\n",
    "        'mse_5fold': np.round(mse5, 3),\n",
    "        'mse_10fold': np.round(mse10, 3),\n",
    "        'diff_5_minus_10': np.round(mse5 - mse10, 3)\n",
    "    }\n",
    "\n",
    "# print results\n",
    "for deg in degrees:\n",
    "    r = results[deg]\n",
    "    print(f\"Degree {deg}: 5-fold MSE = {r['mse_5fold']:.3f}, \"\n",
    "          f\"10-fold MSE = {r['mse_10fold']:.3f}, \"\n",
    "          f\"Difference (5-fold - 10-fold) = {r['diff_5_minus_10']:.3f}\")"
   ]
  },
  {
   "cell_type": "markdown",
   "metadata": {},
   "source": [
    "# 4. Bootstrap\n"
   ]
  },
  {
   "cell_type": "code",
   "execution_count": 17,
   "metadata": {},
   "outputs": [
    {
     "name": "stdout",
     "output_type": "stream",
     "text": [
      "Bootstrap SE (corr(balance, income)): 0.0099\n",
      "Actual correlation (full data): -0.1522\n"
     ]
    }
   ],
   "source": [
    "import numpy as np\n",
    "import pandas as pd\n",
    "\n",
    "# 1) Load data\n",
    "path = '/Users/anhnguyen/Documents/GitHub/2025AAE722_AnhNguyen/2025 AAE722 Anh Nguyen Submission/ALL CSV FILES - 2nd Edition/Default.csv'\n",
    "df = pd.read_csv(path)\n",
    "\n",
    "# Keep only needed columns and drop any missing values\n",
    "df = df[['balance', 'income']].dropna()\n",
    "\n",
    "# 2) Function to compute the correlation coefficient\n",
    "def corr_balance_income(frame: pd.DataFrame) -> float:\n",
    "    return frame['balance'].corr(frame['income'])\n",
    "\n",
    "# 3) Bootstrap resampling\n",
    "B = 2000\n",
    "rs = np.random.RandomState(456)   # random_state=456\n",
    "n = len(df)\n",
    "\n",
    "boot_corrs = np.empty(B, dtype=float)\n",
    "for b in range(B):\n",
    "    idx = rs.randint(0, n, size=n)   # sample with replacement\n",
    "    sample = df.iloc[idx]\n",
    "    boot_corrs[b] = corr_balance_income(sample)\n",
    "\n",
    "# 4) Bootstrap standard error and actual correlation\n",
    "boot_se = boot_corrs.std(ddof=1)\n",
    "actual_corr = corr_balance_income(df)\n",
    "\n",
    "# 5) Round to 4 decimals and print\n",
    "boot_se_rounded = np.round(boot_se, 4)\n",
    "actual_corr_rounded = np.round(actual_corr, 4)\n",
    "\n",
    "print(\"Bootstrap SE (corr(balance, income)):\", boot_se_rounded)\n",
    "print(\"Actual correlation (full data):\", actual_corr_rounded)"
   ]
  },
  {
   "cell_type": "markdown",
   "metadata": {},
   "source": [
    "# 5. Traditional Standard Errors"
   ]
  },
  {
   "cell_type": "code",
   "execution_count": 18,
   "metadata": {},
   "outputs": [
    {
     "name": "stdout",
     "output_type": "stream",
     "text": [
      "Intercept    0.750\n",
      "age          0.808\n",
      "age^2        0.841\n",
      "Name: Bootstrap SE / OLS SE (quad), dtype: float64\n",
      "Ratios array (Intercept, age, age^2): [0.75  0.808 0.841]\n"
     ]
    }
   ],
   "source": [
    "# ---------------------------------------------------------------\n",
    "# Wage.csv — Bootstrap vs. OLS SEs for wage ~ age + age^2\n",
    "# B = 1500, seed = 789\n",
    "# ---------------------------------------------------------------\n",
    "\n",
    "import numpy as np\n",
    "import pandas as pd\n",
    "import statsmodels.api as sm\n",
    "\n",
    "# 1) Load data\n",
    "path = '/Users/anhnguyen/Documents/GitHub/2025AAE722_AnhNguyen/2025 AAE722 Anh Nguyen Submission/ALL CSV FILES - 2nd Edition/Wage.csv'\n",
    "df = pd.read_csv(path)\n",
    "\n",
    "# Keep only needed columns; drop missing\n",
    "df = df[['wage', 'age']].dropna().copy()\n",
    "\n",
    "# 2) Fit linear model: wage ~ age (for completeness)\n",
    "X_lin = sm.add_constant(df[['age']])\n",
    "y = df['wage'].astype(float)\n",
    "lin_mod = sm.OLS(y, X_lin).fit()\n",
    "\n",
    "# Optional: view traditional OLS SEs in the printed summary\n",
    "# print(lin_mod.summary())\n",
    "\n",
    "# 3) Fit quadratic model: wage ~ age + age^2\n",
    "df['age2'] = df['age'] ** 2\n",
    "X_quad = sm.add_constant(df[['age', 'age2']])\n",
    "quad_mod = sm.OLS(y, X_quad).fit()\n",
    "\n",
    "# Optional: OLS summary (contains the \"traditional\" SEs)\n",
    "# print(quad_mod.summary())\n",
    "\n",
    "# 4) Bootstrap SEs for quadratic model coefficients\n",
    "B = 1500\n",
    "rng = np.random.default_rng(789)  # seed=789\n",
    "n = len(df)\n",
    "\n",
    "boot_params = np.empty((B, 3))  # columns: Intercept, age, age^2\n",
    "\n",
    "for b in range(B):\n",
    "    idx = rng.integers(0, n, size=n)  # sample rows with replacement\n",
    "    sample = df.iloc[idx]\n",
    "    Xb = sm.add_constant(sample[['age', 'age2']])\n",
    "    yb = sample['wage']\n",
    "    # Fit OLS on bootstrap sample\n",
    "    res_b = sm.OLS(yb, Xb).fit()\n",
    "    boot_params[b, :] = res_b.params.values  # [const, age, age2]\n",
    "\n",
    "# Bootstrap standard errors (sample std with ddof=1)\n",
    "boot_se = boot_params.std(axis=0, ddof=1)\n",
    "\n",
    "# 5) Traditional OLS SEs from the quadratic model\n",
    "ols_se = quad_mod.bse.values  # [const, age, age2]\n",
    "\n",
    "# 6) Ratios: bootstrap SE / OLS SE, rounded to 3 decimals\n",
    "ratios = np.round(boot_se / ols_se, 3)\n",
    "\n",
    "# 7) Report (quadratic model only)\n",
    "labels = ['Intercept', 'age', 'age^2']\n",
    "result = pd.Series(ratios, index=labels, name='Bootstrap SE / OLS SE (quad)')\n",
    "print(result)\n",
    "\n",
    "# If you also want them as a numpy array in the same order:\n",
    "print(\"Ratios array (Intercept, age, age^2):\", ratios)\n"
   ]
  }
 ],
 "metadata": {
  "kernelspec": {
   "display_name": "Python 3",
   "language": "python",
   "name": "python3"
  },
  "language_info": {
   "codemirror_mode": {
    "name": "ipython",
    "version": 3
   },
   "file_extension": ".py",
   "mimetype": "text/x-python",
   "name": "python",
   "nbconvert_exporter": "python",
   "pygments_lexer": "ipython3",
   "version": "3.9.6"
  }
 },
 "nbformat": 4,
 "nbformat_minor": 2
}
