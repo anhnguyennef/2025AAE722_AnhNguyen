{
 "cells": [
  {
   "cell_type": "markdown",
   "metadata": {},
   "source": [
    "Submission\n",
    "\n",
    "Checked -  Complete this lab in a .ipynb file.\n",
    "Checked - Push the notebook to your AAE722 GitHub repository that is shared with Pragya and Jing.\n",
    "Share the direct link to this specific Lab 2 notebook on Canvas.\n",
    "Double-check that the link opens directly to your Lab 2 notebook file. If not, fix the link and try again.\n",
    "Ensure the notebook is complete and includes all parts before submitting. Missing parts at submission time will not be accepted later."
   ]
  },
  {
   "cell_type": "code",
   "execution_count": 1,
   "metadata": {},
   "outputs": [
    {
     "name": "stdout",
     "output_type": "stream",
     "text": [
      "Modified list: [10, 99, 30]\n",
      "Error message: 'tuple' object does not support item assignment\n"
     ]
    }
   ],
   "source": [
    "# Create a list and modify the second element\n",
    "numbers = [10, 20, 30]\n",
    "numbers[1] = 99\n",
    "print(\"Modified list:\", numbers)\n",
    "\n",
    "# Create a tuple and attempt to modify the first element\n",
    "my_tuple = (1, 2, 3)\n",
    "try:\n",
    "    my_tuple[0] = 99\n",
    "except TypeError as e:\n",
    "    print(\"Error message:\", e)"
   ]
  },
  {
   "cell_type": "code",
   "execution_count": 2,
   "metadata": {},
   "outputs": [
    {
     "name": "stdout",
     "output_type": "stream",
     "text": [
      "Shape of the array: (2, 3)\n",
      "Array after adding 2 to every element:\n",
      " [[3 4 5]\n",
      " [6 7 8]]\n"
     ]
    }
   ],
   "source": [
    "import numpy as np\n",
    "\n",
    "# Create a 2x3 array with values from 1 to 6\n",
    "array = np.arange(1, 7).reshape(2, 3)\n",
    "\n",
    "# Print the shape of the array\n",
    "print(\"Shape of the array:\", array.shape)\n",
    "\n",
    "# Add 2 to every element\n",
    "array_plus_2 = array + 2\n",
    "print(\"Array after adding 2 to every element:\\n\", array_plus_2)"
   ]
  },
  {
   "cell_type": "code",
   "execution_count": 3,
   "metadata": {},
   "outputs": [
    {
     "name": "stdout",
     "output_type": "stream",
     "text": [
      "Mean of random numbers: 0.45900297432508597\n",
      "Standard deviation of random numbers: 0.6334621540984487\n"
     ]
    }
   ],
   "source": [
    "np.random.seed(42)\n",
    "\n",
    "# Generate 5 random numbers from a standard normal distribution\n",
    "random_numbers = np.random.randn(5)\n",
    "\n",
    "# Calculate and print the mean and standard deviation\n",
    "mean = random_numbers.mean()\n",
    "std_dev = random_numbers.std()\n",
    "\n",
    "print(\"Mean of random numbers:\", mean)\n",
    "print(\"Standard deviation of random numbers:\", std_dev)"
   ]
  },
  {
   "cell_type": "code",
   "execution_count": 4,
   "metadata": {},
   "outputs": [
    {
     "data": {
      "image/png": "[encoded data removed]",
      "text/plain": [
       "<Figure size 640x480 with 1 Axes>"
      ]
     },
     "metadata": {},
     "output_type": "display_data"
    }
   ],
   "source": [
    "import matplotlib.pyplot as plt\n",
    "\n",
    "# Define x and y values\n",
    "x = [1, 2, 3]\n",
    "y = [4, 5, 6]\n",
    "\n",
    "# Create the scatter plot\n",
    "plt.scatter(x, y)\n",
    "\n",
    "# Label the axes and set a title\n",
    "plt.xlabel('X-axis')\n",
    "plt.ylabel('Y-axis')\n",
    "plt.title('Scatter Plot of X vs Y')\n",
    "\n",
    "# Show the plot\n",
    "plt.show()"
   ]
  },
  {
   "cell_type": "code",
   "execution_count": 5,
   "metadata": {},
   "outputs": [
    {
     "name": "stdout",
     "output_type": "stream",
     "text": [
      "Second row: [4 5 6 7]\n",
      "Elements greater than 10: [11 12 13 14 15]\n"
     ]
    }
   ],
   "source": [
    "# Create a 4x4 array with values from 0 to 15\n",
    "array_4x4 = np.arange(16).reshape(4, 4)\n",
    "\n",
    "# Print the second row\n",
    "second_row = array_4x4[1]\n",
    "print(\"Second row:\", second_row)\n",
    "\n",
    "# Print all elements greater than 10\n",
    "elements_greater_than_10 = array_4x4[array_4x4 > 10]\n",
    "print(\"Elements greater than 10:\", elements_greater_than_10)"
   ]
  }
 ],
 "metadata": {
  "kernelspec": {
   "display_name": "myenv",
   "language": "python",
   "name": "python3"
  },
  "language_info": {
   "codemirror_mode": {
    "name": "ipython",
    "version": 3
   },
   "file_extension": ".py",
   "mimetype": "text/x-python",
   "name": "python",
   "nbconvert_exporter": "python",
   "pygments_lexer": "ipython3",
   "version": "3.11.13"
  }
 },
 "nbformat": 4,
 "nbformat_minor": 2
}
